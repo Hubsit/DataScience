{
  "nbformat": 4,
  "nbformat_minor": 0,
  "metadata": {
    "colab": {
      "provenance": []
    },
    "kernelspec": {
      "name": "python3",
      "display_name": "Python 3"
    },
    "language_info": {
      "name": "python"
    }
  },
  "cells": [
    {
      "cell_type": "code",
      "execution_count": null,
      "metadata": {
        "id": "pwxZMpd3Do2u"
      },
      "outputs": [],
      "source": [
        "import numpy as np"
      ]
    },
    {
      "cell_type": "code",
      "source": [
        "#Task 1\n",
        "arr_1 = np.arange(1, 11)\n",
        "arr_1"
      ],
      "metadata": {
        "id": "U2bg7d2JRWL1",
        "colab": {
          "base_uri": "https://localhost:8080/"
        },
        "outputId": "8fa8a5fb-bd15-49f7-d3c7-2937c2883175"
      },
      "execution_count": null,
      "outputs": [
        {
          "output_type": "execute_result",
          "data": {
            "text/plain": [
              "array([ 1,  2,  3,  4,  5,  6,  7,  8,  9, 10])"
            ]
          },
          "metadata": {},
          "execution_count": 4
        }
      ]
    },
    {
      "cell_type": "code",
      "source": [
        "# Task 2\n",
        "arr_2 = np.zeros((3, 3))\n",
        "arr_2"
      ],
      "metadata": {
        "colab": {
          "base_uri": "https://localhost:8080/"
        },
        "id": "bMzaNlomD3qh",
        "outputId": "069d4d05-7745-43ec-ac87-e8c6346fea44"
      },
      "execution_count": null,
      "outputs": [
        {
          "output_type": "execute_result",
          "data": {
            "text/plain": [
              "array([[0., 0., 0.],\n",
              "       [0., 0., 0.],\n",
              "       [0., 0., 0.]])"
            ]
          },
          "metadata": {},
          "execution_count": 3
        }
      ]
    },
    {
      "cell_type": "code",
      "source": [
        "#Task 3\n",
        "arr_3 = np.random.randint(1, 11, size=(5, 5))\n",
        "arr_3"
      ],
      "metadata": {
        "colab": {
          "base_uri": "https://localhost:8080/"
        },
        "id": "Yz2V6tjXrP11",
        "outputId": "e4e75d00-3d9b-41a5-934b-1b10a184e1df"
      },
      "execution_count": null,
      "outputs": [
        {
          "output_type": "execute_result",
          "data": {
            "text/plain": [
              "array([[2, 6, 9, 9, 7],\n",
              "       [3, 9, 2, 4, 4],\n",
              "       [3, 5, 4, 7, 9],\n",
              "       [8, 8, 3, 5, 8],\n",
              "       [7, 8, 5, 7, 9]])"
            ]
          },
          "metadata": {},
          "execution_count": 8
        }
      ]
    },
    {
      "cell_type": "code",
      "source": [
        "#Task 4\n",
        "arr_4 = np.random.random((4, 4))\n",
        "arr_4"
      ],
      "metadata": {
        "colab": {
          "base_uri": "https://localhost:8080/"
        },
        "id": "mZ9UROOCs4NO",
        "outputId": "0e6204e4-9a3e-4b48-e365-8c49250bd293"
      },
      "execution_count": null,
      "outputs": [
        {
          "output_type": "execute_result",
          "data": {
            "text/plain": [
              "array([[0.45957025, 0.47230059, 0.02564832, 0.4569308 ],\n",
              "       [0.14871495, 0.85664624, 0.96379375, 0.68109855],\n",
              "       [0.87712801, 0.16328002, 0.2936023 , 0.5422777 ],\n",
              "       [0.1854032 , 0.43321955, 0.37462211, 0.99521369]])"
            ]
          },
          "metadata": {},
          "execution_count": 7
        }
      ]
    },
    {
      "cell_type": "code",
      "source": [
        "#Task 5\n",
        "arr_51 = np.random.randint(1, 11, size=(5))\n",
        "arr_52 = np.random.randint(1, 11, size=(5))"
      ],
      "metadata": {
        "id": "21syHgVFt-Kt"
      },
      "execution_count": null,
      "outputs": []
    },
    {
      "cell_type": "code",
      "source": [
        "arr_51"
      ],
      "metadata": {
        "colab": {
          "base_uri": "https://localhost:8080/"
        },
        "id": "XS2f3JsEu3RQ",
        "outputId": "d45b384f-414f-4d65-b470-ff06fdbeb2f7"
      },
      "execution_count": null,
      "outputs": [
        {
          "output_type": "execute_result",
          "data": {
            "text/plain": [
              "array([3, 2, 2, 8, 7])"
            ]
          },
          "metadata": {},
          "execution_count": 13
        }
      ]
    },
    {
      "cell_type": "code",
      "source": [
        "arr_52"
      ],
      "metadata": {
        "colab": {
          "base_uri": "https://localhost:8080/"
        },
        "id": "GkOOLjhgu49I",
        "outputId": "47654e1f-c2a2-4c95-cebc-a71ea7640fd9"
      },
      "execution_count": null,
      "outputs": [
        {
          "output_type": "execute_result",
          "data": {
            "text/plain": [
              "array([8, 5, 1, 5, 8])"
            ]
          },
          "metadata": {},
          "execution_count": 14
        }
      ]
    },
    {
      "cell_type": "code",
      "source": [
        "result_1 = arr_51 + arr_52\n",
        "result_2 = arr_51 - arr_52\n",
        "result_3 = arr_51 * arr_52\n",
        "print(result_1, result_2, result_3)"
      ],
      "metadata": {
        "colab": {
          "base_uri": "https://localhost:8080/"
        },
        "id": "7Ws75qV5vFyV",
        "outputId": "867968c3-183c-41a5-b792-8d7c2194d34a"
      },
      "execution_count": null,
      "outputs": [
        {
          "output_type": "stream",
          "name": "stdout",
          "text": [
            "[11  7  3 13 15] [-5 -3  1  3 -1] [24 10  2 40 56]\n"
          ]
        }
      ]
    },
    {
      "cell_type": "code",
      "source": [
        "#Task 6\n",
        "arr_61 = np.random.randint(1, 11, size=(7))\n",
        "arr_62 = np.random.randint(1, 11, size=(7))\n",
        "print(arr_61, arr_62)"
      ],
      "metadata": {
        "colab": {
          "base_uri": "https://localhost:8080/"
        },
        "id": "8RiAZ-yGvoRr",
        "outputId": "6d625101-7c4f-4883-e7db-489bea299dda"
      },
      "execution_count": null,
      "outputs": [
        {
          "output_type": "stream",
          "name": "stdout",
          "text": [
            "[ 5  2  3  3  4 10  5] [10  5  7  9  4  2  7]\n"
          ]
        }
      ]
    },
    {
      "cell_type": "code",
      "source": [
        "result = np.dot(arr_61, arr_62)\n",
        "print(result)"
      ],
      "metadata": {
        "colab": {
          "base_uri": "https://localhost:8080/"
        },
        "id": "TnmE_aATwhhH",
        "outputId": "3454579d-c4ea-46fa-99a8-611d677be7c6"
      },
      "execution_count": null,
      "outputs": [
        {
          "output_type": "stream",
          "name": "stdout",
          "text": [
            "179\n"
          ]
        }
      ]
    },
    {
      "cell_type": "code",
      "source": [
        "#Task 7\n",
        "arr_71 = np.random.randint(1, 11, size=(2, 2))\n",
        "arr_72 = np.random.randint(1, 11, size=(2, 3))\n",
        "res = np.dot(arr_71, arr_72)\n",
        "print(res)"
      ],
      "metadata": {
        "colab": {
          "base_uri": "https://localhost:8080/"
        },
        "id": "npt6wjA1wxU-",
        "outputId": "571577f1-0f55-49fc-fb04-c54ebd9357b6"
      },
      "execution_count": null,
      "outputs": [
        {
          "output_type": "stream",
          "name": "stdout",
          "text": [
            "[[ 66  57  31]\n",
            " [120 110  60]]\n"
          ]
        }
      ]
    },
    {
      "cell_type": "code",
      "source": [
        "#Task 8\n",
        "arr_8 = np.random.randint(1, 11, size=(3, 3))\n",
        "res_8 = np.linalg.inv(arr_8)\n",
        "print(res_8)"
      ],
      "metadata": {
        "colab": {
          "base_uri": "https://localhost:8080/"
        },
        "id": "_8hH2Gu3yzTT",
        "outputId": "f29a9cf0-e9cb-46da-81be-5ded700567fc"
      },
      "execution_count": null,
      "outputs": [
        {
          "output_type": "stream",
          "name": "stdout",
          "text": [
            "[[-2.8  0.5  0.8]\n",
            " [ 2.6 -0.5 -0.6]\n",
            " [-1.9  0.5  0.4]]\n"
          ]
        }
      ]
    },
    {
      "cell_type": "code",
      "source": [
        "#Task 9\n",
        "arr_9 = np.random.random(size=(4, 4))\n",
        "res_9 = np.transpose(arr_9)\n",
        "print(res_9)"
      ],
      "metadata": {
        "colab": {
          "base_uri": "https://localhost:8080/"
        },
        "id": "yungKwMMzisO",
        "outputId": "e43fd3a4-9e92-40ba-93a6-839602e8a3f4"
      },
      "execution_count": null,
      "outputs": [
        {
          "output_type": "stream",
          "name": "stdout",
          "text": [
            "[[0.99982326 0.01951015 0.63542452 0.1714515 ]\n",
            " [0.29043777 0.725313   0.01131315 0.5305239 ]\n",
            " [0.74089147 0.60929001 0.51141043 0.05467209]\n",
            " [0.1808149  0.34370567 0.29616204 0.04243566]]\n"
          ]
        }
      ]
    },
    {
      "cell_type": "code",
      "source": [
        "#Task 10\n",
        "arr_101 = np.random.randint(1, 11, size=(3, 4))\n",
        "arr_102 = np.random.randint(1, 11, size=(4))\n",
        "res_10 = np.dot(arr_101, arr_102)\n",
        "print(res_10)"
      ],
      "metadata": {
        "colab": {
          "base_uri": "https://localhost:8080/"
        },
        "id": "FYrw6lSb0L_Q",
        "outputId": "e6eb8bf4-67c1-4b10-c684-e4fd08b12f36"
      },
      "execution_count": null,
      "outputs": [
        {
          "output_type": "stream",
          "name": "stdout",
          "text": [
            "[ 96 103 100]\n"
          ]
        }
      ]
    },
    {
      "cell_type": "code",
      "source": [
        "#Task 11\n",
        "arr_111 = np.random.random(size=(2, 3))\n",
        "arr_112 = np.random.random(size=(3))\n",
        "res_11 = np.dot(arr_111, arr_112)\n",
        "print(res_11)"
      ],
      "metadata": {
        "colab": {
          "base_uri": "https://localhost:8080/"
        },
        "id": "cK_6IO3i1F44",
        "outputId": "489402f5-8198-4599-e754-2ea434403fce"
      },
      "execution_count": null,
      "outputs": [
        {
          "output_type": "stream",
          "name": "stdout",
          "text": [
            "[0.47969062 0.74341276]\n"
          ]
        }
      ]
    },
    {
      "cell_type": "code",
      "source": [
        "#Task 12\n",
        "arr_121 = np.random.randint(1, 11, size=(2, 2))\n",
        "arr_122 = np.random.randint(1, 11, size=(2, 2))\n",
        "res_12 = np.multiply(arr_121, arr_122)\n",
        "print(res_12)"
      ],
      "metadata": {
        "colab": {
          "base_uri": "https://localhost:8080/"
        },
        "id": "10t21p8N14xO",
        "outputId": "a4302ccb-0816-478f-ce1b-78cd162bbe24"
      },
      "execution_count": null,
      "outputs": [
        {
          "output_type": "stream",
          "name": "stdout",
          "text": [
            "[[36 32]\n",
            " [30 40]]\n"
          ]
        }
      ]
    },
    {
      "cell_type": "code",
      "source": [
        "#Task 13\n",
        "arr_131 = np.random.randint(1, 11, size=(2, 2))\n",
        "arr_132 = np.random.randint(1, 11, size=(2, 2))\n",
        "res_13 = np.dot(arr_131, arr_132)\n",
        "print(res_13)"
      ],
      "metadata": {
        "colab": {
          "base_uri": "https://localhost:8080/"
        },
        "id": "EgFd1QdS2WpG",
        "outputId": "c6ef2a13-c7b3-4977-8c65-5022c255bde0"
      },
      "execution_count": null,
      "outputs": [
        {
          "output_type": "stream",
          "name": "stdout",
          "text": [
            "[[121  54]\n",
            " [ 90  44]]\n"
          ]
        }
      ]
    },
    {
      "cell_type": "code",
      "source": [
        "#Task 14\n",
        "arr_14 = np.random.randint(1, 101, size=(5, 5))\n",
        "res_14 = np.sum(arr_14)\n",
        "print(res_14)"
      ],
      "metadata": {
        "colab": {
          "base_uri": "https://localhost:8080/"
        },
        "id": "Eve_RZOS2wdo",
        "outputId": "e3a9dcc5-3206-4858-df56-17ff8f07f727"
      },
      "execution_count": null,
      "outputs": [
        {
          "output_type": "stream",
          "name": "stdout",
          "text": [
            "1308\n"
          ]
        }
      ]
    },
    {
      "cell_type": "code",
      "source": [
        "#Task 15\n",
        "arr_151 = np.random.randint(1, 11, size=(4, 4))\n",
        "arr_152 = np.random.randint(1, 11, size=(4, 4))\n",
        "res_15 = arr_151 - arr_152\n",
        "print(res_15)"
      ],
      "metadata": {
        "colab": {
          "base_uri": "https://localhost:8080/"
        },
        "id": "5ynf7EUo3EsW",
        "outputId": "52a86e25-7774-4448-f38b-2c6cd8a7f0b5"
      },
      "execution_count": null,
      "outputs": [
        {
          "output_type": "stream",
          "name": "stdout",
          "text": [
            "[[ 7  5  9 -4]\n",
            " [-2  6  2 -1]\n",
            " [ 6 -5 -4 -3]\n",
            " [ 6 -7  7 -1]]\n"
          ]
        }
      ]
    },
    {
      "cell_type": "code",
      "source": [
        "#Task 16\n",
        "arr_16 = np.random.random(size=(3, 3))\n",
        "sum_vector = np.sum(arr_16, axis=1)\n",
        "res_16 = sum_vector.reshape(-1, 1)\n",
        "print(res_16)"
      ],
      "metadata": {
        "colab": {
          "base_uri": "https://localhost:8080/"
        },
        "id": "0-b22ECl3-B-",
        "outputId": "32ad01ab-aab3-456e-cb45-eef25fe7e86c"
      },
      "execution_count": 40,
      "outputs": [
        {
          "output_type": "stream",
          "name": "stdout",
          "text": [
            "[[1.99891723]\n",
            " [1.94665974]\n",
            " [1.47531965]]\n"
          ]
        }
      ]
    },
    {
      "cell_type": "code",
      "source": [
        "#Task 17\n",
        "arr_17 = np.random.randint(1, 11, size=(3, 4))\n",
        "res_17 = np.square(arr_17)\n",
        "print(res_17)"
      ],
      "metadata": {
        "colab": {
          "base_uri": "https://localhost:8080/"
        },
        "id": "TH3kAPeq46D_",
        "outputId": "492b427e-7d51-449d-a7d3-8a4ba78ffab5"
      },
      "execution_count": null,
      "outputs": [
        {
          "output_type": "stream",
          "name": "stdout",
          "text": [
            "[[ 64  81   1  49]\n",
            " [  1 100 100  81]\n",
            " [ 16  64   4   9]]\n"
          ]
        }
      ]
    },
    {
      "cell_type": "code",
      "source": [
        "#Task 18\n",
        "arr_18 = np.random.randint(1, 51, size=(4))\n",
        "res_18 = np.sqrt(arr_18)\n",
        "print(res_18)"
      ],
      "metadata": {
        "colab": {
          "base_uri": "https://localhost:8080/"
        },
        "id": "69-zDHx85RaN",
        "outputId": "98f4e604-d5d9-4e5f-9ace-6a9b9aeebb8e"
      },
      "execution_count": null,
      "outputs": [
        {
          "output_type": "stream",
          "name": "stdout",
          "text": [
            "[4.79583152 6.08276253 1.73205081 2.        ]\n"
          ]
        }
      ]
    }
  ]
}